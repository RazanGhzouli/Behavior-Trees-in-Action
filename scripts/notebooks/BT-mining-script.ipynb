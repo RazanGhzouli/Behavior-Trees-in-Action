{
 "cells": [
  {
   "cell_type": "code",
   "execution_count": 1,
   "metadata": {},
   "outputs": [],
   "source": [
    "import pandas as pd\n",
    "import csv\n",
    "import matplotlib.pyplot as plt\n",
    "from matplotlib.pyplot import figure\n",
    "import os.path\n",
    "import requests\n",
    "import os.path\n",
    "import re\n",
    "import numpy as np\n",
    "from github import Github;"
   ]
  },
  {
   "cell_type": "markdown",
   "metadata": {},
   "source": [
    "## **py_tree_ros library Data Collection**\n",
    "\n",
    "* I'm intersted in code using the following library \"py_trees_ros\" so I'll query all code files containing this string and has python file format. Similar step will be done for behaviortree.cpp library using the term:  \"main_tree_to_execute\"\n",
    "* To run the code, enter your GitHub access token. You can create one by following these [instructions](https://docs.github.com/en/github/authenticating-to-github/creating-a-personal-access-token) "
   ]
  },
  {
   "cell_type": "code",
   "execution_count": 3,
   "metadata": {},
   "outputs": [],
   "source": [
    "def access_token(token):\n",
    "    ACCESS_TOKEN = token ## enter your githun token\n",
    "    g = Github(ACCESS_TOKEN)\n",
    "    \n",
    "    try:\n",
    "        repo = g.get_repo(\"PyGithub/PyGithub\")\n",
    "        if repo.full_name == \"PyGithub/PyGithub\":\n",
    "#         print(repo.full_name)#\n",
    "            print(\"Access token works\")\n",
    "            return g\n",
    "    except BadCredentialsException:\n",
    "        print(\"Please provide a working access token\")\n",
    "        \n",
    "## a function to query github by entering a specific string to search on files level\n",
    "def query_github(g):\n",
    "    g= g   \n",
    "    keywords = input('Enter keyword(s)[e.g py_trees_ros, main_tree_to_execute]: ')\n",
    "    keywords = [keyword.strip() for keyword in keywords.split(',')]\n",
    "    query = f'\"{keywords}\" in:file extension:py' ### change extension to XML for \"main_tree_to_execute\"\n",
    "    result = g.search_code(query, order='desc') \n",
    "    return result        \n"
   ]
  },
  {
   "cell_type": "code",
   "execution_count": null,
   "metadata": {},
   "outputs": [],
   "source": [
    "token = input('Enter your Github access token: ')"
   ]
  },
  {
   "cell_type": "code",
   "execution_count": 5,
   "metadata": {},
   "outputs": [
    {
     "name": "stdout",
     "output_type": "stream",
     "text": [
      "Access token works\n"
     ]
    }
   ],
   "source": [
    "g = access_token(token)"
   ]
  },
  {
   "cell_type": "code",
   "execution_count": 32,
   "metadata": {},
   "outputs": [
    {
     "name": "stdout",
     "output_type": "stream",
     "text": [
      "Enter keyword(s)[e.g py_trees_ros, main_tree_to_execute]: py_trees_ros\n"
     ]
    }
   ],
   "source": [
    "result = query_github(g)"
   ]
  },
  {
   "cell_type": "code",
   "execution_count": 33,
   "metadata": {},
   "outputs": [
    {
     "name": "stdout",
     "output_type": "stream",
     "text": [
      "Found 257 file(s)\n"
     ]
    }
   ],
   "source": [
    "print(f'Found {result.totalCount} file(s)')"
   ]
  },
  {
   "cell_type": "markdown",
   "metadata": {},
   "source": [
    "### Only run below cell if you want to limit the number of returned files by Github"
   ]
  },
  {
   "cell_type": "code",
   "execution_count": 31,
   "metadata": {},
   "outputs": [
    {
     "name": "stdout",
     "output_type": "stream",
     "text": [
      "The number of mined GitHub is 257 and it was limmited to 100 \n"
     ]
    }
   ],
   "source": [
    "## a function to limit the number of returned files, please only run this cell if you want to limit number of returned \n",
    "## files, otherwise ignore this cell\n",
    "def limit_result_size(result, desired_size):    \n",
    "    max_size = desired_size  \n",
    "    if result.totalCount >= max_size:\n",
    "        print(f'The number of mined GitHub files is {result.totalCount} and it was limmited to {max_size} ')\n",
    "        return result[:max_size]\n",
    "\n",
    "## change here depending on number of files that you want to download. GitHub API has a limit of maximum 1000 files\n",
    "desired_size = 100\n",
    "result = limit_result_size(result, desired_size)"
   ]
  },
  {
   "cell_type": "code",
   "execution_count": 25,
   "metadata": {},
   "outputs": [],
   "source": [
    "\n",
    "new_repo = {}\n",
    "for file in result:\n",
    "    url = file.download_url \n",
    "\n",
    "    repo_name = file.repository.full_name.replace('/','_')\n",
    "    \n",
    "    if repo_name in new_repo:\n",
    "        # append the new url to the existing array at this slot\n",
    "        new_repo[repo_name].append(url)\n",
    "    else:\n",
    "        # create a new array in this slot\n",
    "        new_repo[repo_name] = [url]\n"
   ]
  },
  {
   "cell_type": "code",
   "execution_count": 26,
   "metadata": {},
   "outputs": [
    {
     "name": "stdout",
     "output_type": "stream",
     "text": [
      "The number of repository: 31\n"
     ]
    }
   ],
   "source": [
    "print(\"The number of repository: {}\".format(len(new_repo)))\n",
    "##If you want to display the repository and URL for each file uncomment below line\n",
    "#new_repo"
   ]
  },
  {
   "cell_type": "code",
   "execution_count": 6,
   "metadata": {},
   "outputs": [],
   "source": [
    "## extract wanted projects\n",
    "## after manual filtering and exploring the repository a list of wanted repo was defined and passed to the \"repo_name_list\" variable. This can be passed as a file as well instead of a list\n",
    "wanted_repo = {}\n",
    "\n",
    "repo_name_list =['smarc-project_smarc_missions','simutisernestas_mobile_robot_project','samiamlabs_dyno','refills-project_refills_second_review','peterheim1_gizmo', 'jotix16_Robotics-Behaviour-Planning','braineniac_robotics-player','KKalem_sam_march','Taospirit_roborts_project']\n",
    "for i  in range(len(repo_name_list)):\n",
    "    if repo_name_list[i] in new_repo:\n",
    "        # append the new url to the existing array at this slot\n",
    "        wanted_repo[repo_name_list[i]] = new_repo[repo_name_list[i]]"
   ]
  },
  {
   "cell_type": "code",
   "execution_count": 7,
   "metadata": {},
   "outputs": [
    {
     "name": "stdout",
     "output_type": "stream",
     "text": [
      "The number of filtered repository: 9\n"
     ]
    }
   ],
   "source": [
    "print(\"The number of filtered repository: {}\".format(len(wanted_repo)))"
   ]
  },
  {
   "cell_type": "markdown",
   "metadata": {},
   "source": [
    "**Downloading Raw Data**\n",
    "\n",
    "* Downloading the raw data to calculate the base metric"
   ]
  },
  {
   "cell_type": "code",
   "execution_count": null,
   "metadata": {},
   "outputs": [],
   "source": [
    "## downloading the matched files from above query\n",
    "file_count = 0\n",
    "for key,value in wanted_repo.items():\n",
    "      for i in range(len(value)):\n",
    "            r = requests.get(value[i])\n",
    "            ## if you want to change the path where files are saved change  \"/home/jovyan/src/notebooks/downloads/pytreeros\" to where you want, also for XML fromat files change the re.search to xml instead of py \n",
    "            open(os.path.join(\"/home/jovyan/src/notebooks/downloads/pytreeros/\", os.path.basename(key+'_'+(re.search('/(\\w*((%20\\w)*)?.py)', value[i]).group(1)))) , \"wb\").write(r.content)\n",
    "            file_count += 1\n",
    "\n",
    "print(\"Download complete for {} files\".format(file_count))"
   ]
  },
  {
   "cell_type": "markdown",
   "metadata": {},
   "source": [
    "## **BehaviorTree.CPP library Data Collection**\n",
    "\n",
    "* I'm intersted in code using the following library \"BehaviorTree.CPP\" so I'll query all code files containing this string \"main_tree_to_execute\" and has xml file format. \n",
    "* To run the code, enter your GitHub access token. You can create one by following these [instructions](https://docs.github.com/en/github/authenticating-to-github/creating-a-personal-access-token) "
   ]
  },
  {
   "cell_type": "code",
   "execution_count": 46,
   "metadata": {},
   "outputs": [],
   "source": [
    "def access_token(token):\n",
    "    ACCESS_TOKEN = token ## enter your githun token\n",
    "    g = Github(ACCESS_TOKEN)\n",
    "    \n",
    "    try:\n",
    "        repo = g.get_repo(\"PyGithub/PyGithub\")\n",
    "        if repo.full_name == \"PyGithub/PyGithub\":\n",
    "#         print(repo.full_name)#\n",
    "            print(\"Access token works\")\n",
    "            return g\n",
    "    except BadCredentialsException:\n",
    "        print(\"Please provide a working access token\")\n",
    "        \n",
    "## a function to query github by entering a specific string to search on files level       \n",
    "def query_github(g):\n",
    "    g= g   \n",
    "    keywords = input('Enter keyword(s)[e.g py_trees_ros, main_tree_to_execute]: ')\n",
    "    keywords = [keyword.strip() for keyword in keywords.split(',')]\n",
    "    query = f'\"{keywords}\" in:file extension:xml' ### change extension to py for \"py_tree_ros\"\n",
    "    result = g.search_code(query, order='desc') \n",
    "    return result"
   ]
  },
  {
   "cell_type": "code",
   "execution_count": null,
   "metadata": {},
   "outputs": [],
   "source": [
    "token = input('Enter your Github access token: ')"
   ]
  },
  {
   "cell_type": "code",
   "execution_count": 39,
   "metadata": {},
   "outputs": [
    {
     "name": "stdout",
     "output_type": "stream",
     "text": [
      "Access token works\n"
     ]
    }
   ],
   "source": [
    "g = access_token(token)"
   ]
  },
  {
   "cell_type": "code",
   "execution_count": 48,
   "metadata": {},
   "outputs": [
    {
     "name": "stdout",
     "output_type": "stream",
     "text": [
      "Enter keyword(s)[e.g py_trees_ros, main_tree_to_execute]: main_tree_to_execute\n"
     ]
    }
   ],
   "source": [
    "result = query_github(g)"
   ]
  },
  {
   "cell_type": "code",
   "execution_count": 49,
   "metadata": {},
   "outputs": [
    {
     "name": "stdout",
     "output_type": "stream",
     "text": [
      "Found 493 file(s)\n"
     ]
    }
   ],
   "source": [
    "print(f'Found {result.totalCount} file(s)')"
   ]
  },
  {
   "cell_type": "code",
   "execution_count": 50,
   "metadata": {},
   "outputs": [
    {
     "name": "stdout",
     "output_type": "stream",
     "text": [
      "The number of mined GitHub files is 493 and it was limmited to 100 \n"
     ]
    }
   ],
   "source": [
    "def limit_result_size(result, desired_size):    \n",
    "    max_size = desired_size  \n",
    "    if result.totalCount >= max_size:\n",
    "        print(f'The number of mined GitHub files is {result.totalCount} and it was limmited to {max_size} ')\n",
    "        return result[:max_size]\n",
    "\n",
    "desired_size = 100\n",
    "result = limit_result_size(result, desired_size)"
   ]
  },
  {
   "cell_type": "code",
   "execution_count": 10,
   "metadata": {},
   "outputs": [],
   "source": [
    "new_repo = {}\n",
    "for file in result:\n",
    "    url = file.download_url \n",
    "\n",
    "    repo_name = file.repository.full_name.replace('/','_')\n",
    "    \n",
    "    if repo_name in new_repo:\n",
    "        # append the new url to the existing array at this slot\n",
    "        new_repo[repo_name].append(url)\n",
    "    else:\n",
    "        # create a new array in this slot\n",
    "        new_repo[repo_name] = [url]"
   ]
  },
  {
   "cell_type": "code",
   "execution_count": 11,
   "metadata": {},
   "outputs": [
    {
     "name": "stdout",
     "output_type": "stream",
     "text": [
      "The number of repository: 64\n"
     ]
    }
   ],
   "source": [
    "print(\"The number of repository: {}\".format(len(new_repo)))\n",
    "##If you want to display the repository and URL for each file uncomment below line\n",
    "#new_repo"
   ]
  },
  {
   "cell_type": "code",
   "execution_count": 12,
   "metadata": {},
   "outputs": [],
   "source": [
    "## extract wanted projects\n",
    "## after manual filtering and exploring the repository a list of wanted repo was defined and passed to the \"repo_name_list\" variable. This can be passed as a file as well instead of a list\n",
    "wanted_repo = {}\n",
    "\n",
    "repo_name_list =['ajbandera_MiRON-project', 'IntelligentRoboticsLabs_robocup2020', 'ipa-rar_pickplace', 'Adlink-ROS_BT_ros2','vislab-tecnico-lisboa_vizzy_playground','alexandrethm_mecatro-P17','ParthasarathyBana_behavior_tree_roscpp','skylerpan_neuronbot2_multibot','vislab-tecnico-lisboa_vizzy_behavior_trees','kmi-robots_hans-ros-supervisor','MROS-RobMoSys-ITP_Pilot-URJC','CARVE-ROBMOSYS_BTCompiler','julienbayle_stardust','CARVE-ROBMOSYS_carve-scenarios-config','CARVE-ROBMOSYS_Yarp-SmartSoft-Integration','MiRON-project_bundles']\n",
    "for i  in range(len(repo_name_list)):\n",
    "    if repo_name_list[i] in new_repo:\n",
    "        # append the new url to the existing array at this slot\n",
    "        wanted_repo[repo_name_list[i]] = new_repo[repo_name_list[i]]"
   ]
  },
  {
   "cell_type": "code",
   "execution_count": 13,
   "metadata": {},
   "outputs": [
    {
     "name": "stdout",
     "output_type": "stream",
     "text": [
      "The number of filtered repository: 16\n"
     ]
    }
   ],
   "source": [
    "print(\"The number of filtered repository: {}\".format(len(wanted_repo)))"
   ]
  },
  {
   "cell_type": "markdown",
   "metadata": {},
   "source": [
    " **Downloading Raw Data**\n",
    "* Downloading the raw data to calculate the base metric"
   ]
  },
  {
   "cell_type": "code",
   "execution_count": null,
   "metadata": {},
   "outputs": [],
   "source": [
    "## downloading the matched files from above query\n",
    "file_count = 0\n",
    "for key,value in wanted_repo.items():\n",
    "      for i in range(len(value)):\n",
    "            r = requests.get(value[i])\n",
    "            ## if you want to change the path where files are saved change  \"/home/jovyan/src/notebooks/downloads/pytreeros\" to where you want, also for XML fromat files change the re.search to xml instead of py \n",
    "            open(os.path.join(\"/home/jovyan/src/notebooks/downloads/behaviortreecpp/\", os.path.basename(key+'_'+(re.search('/(\\w*((%20\\w)*)?.py)', value[i]).group(1)))) , \"wb\").write(r.content)\n",
    "            file_count += 1\n",
    "\n",
    "print(\"Download complete for {} files\".format(file_count))"
   ]
  }
 ],
 "metadata": {
  "kernelspec": {
   "display_name": "Python 3",
   "language": "python",
   "name": "python3"
  },
  "language_info": {
   "codemirror_mode": {
    "name": "ipython",
    "version": 3
   },
   "file_extension": ".py",
   "mimetype": "text/x-python",
   "name": "python",
   "nbconvert_exporter": "python",
   "pygments_lexer": "ipython3",
   "version": "3.8.5"
  }
 },
 "nbformat": 4,
 "nbformat_minor": 2
}
